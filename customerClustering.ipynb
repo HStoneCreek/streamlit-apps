{
 "cells": [
  {
   "cell_type": "code",
   "execution_count": 89,
   "metadata": {
    "_cell_guid": "b1076dfc-b9ad-4769-8c92-a6c4dae69d19",
    "_uuid": "8f2839f25d086af736a60e9eeb907d3b93b6e0e5"
   },
   "outputs": [],
   "source": [
    "\n",
    "#https://www.kaggle.com/hendriksteinbach/mall-customer-segmentation-using-k-means/edit\n",
    "\n",
    "import numpy as np # linear algebra\n",
    "import pandas as pd # data processing, CSV file I/O (e.g. pd.read_csv)\n"
   ]
  },
  {
   "cell_type": "code",
   "execution_count": 90,
   "metadata": {},
   "outputs": [],
   "source": [
    "# Supress Warnings\n",
    "import warnings\n",
    "warnings.filterwarnings('ignore')"
   ]
  },
  {
   "cell_type": "code",
   "execution_count": 142,
   "metadata": {
    "_cell_guid": "79c7e3d0-c299-4dcb-8224-4455121ee9b0",
    "_uuid": "d629ff2d2480ee46fbb7e2d37f6b5fab8052498a"
   },
   "outputs": [],
   "source": [
    "# Importing libraries\n",
    "import numpy as np\n",
    "import pandas as pd\n",
    "import matplotlib.pyplot as plt\n",
    "import seaborn as sns\n",
    "import streamlit as st"
   ]
  },
  {
   "cell_type": "code",
   "execution_count": 92,
   "metadata": {},
   "outputs": [],
   "source": [
    "# Data display coustomization\n",
    "pd.set_option('display.max_columns', None)\n",
    "pd.set_option('display.max_colwidth', -1)"
   ]
  },
  {
   "cell_type": "code",
   "execution_count": 93,
   "metadata": {},
   "outputs": [],
   "source": [
    "# To perform Hierarchical clustering\n",
    "from scipy.cluster.hierarchy import linkage\n",
    "from scipy.cluster.hierarchy import dendrogram\n",
    "from scipy.cluster.hierarchy import cut_tree\n",
    "from sklearn.metrics import silhouette_score\n",
    "from sklearn.cluster import KMeans"
   ]
  },
  {
   "cell_type": "code",
   "execution_count": 150,
   "metadata": {},
   "outputs": [],
   "source": [
    "# import all libraries and dependencies for machine learning\n",
    "from sklearn.preprocessing import StandardScaler\n",
    "from sklearn.decomposition import PCA\n",
    "from sklearn.decomposition import IncrementalPCA\n",
    "from sklearn.neighbors import NearestNeighbors\n",
    "from random import sample\n",
    "from numpy.random import uniform\n",
    "from math import isnan"
   ]
  },
  {
   "cell_type": "code",
   "execution_count": 151,
   "metadata": {},
   "outputs": [],
   "source": [
    "class CustomerClassification:\n",
    "    def __init__(self):\n",
    "        self.mall = pd.read_csv(r\"Mall_Customers.csv\")\n",
    "        self.mall_d = None\n",
    "        self.mall_df1 = None\n",
    "        self.newCustomer = None\n",
    "        self.cluster = None\n",
    "        self.scaler = None\n",
    "        \n",
    "    def prepareData(self):\n",
    "        mall_c = self.mall.drop(['CustomerID','Gender'],axis=1,inplace=True)\n",
    "        self.mall_d= self.mall.copy()\n",
    "        self.mall_d.drop_duplicates(subset=None,inplace=True)\n",
    "        self.scaler = StandardScaler()\n",
    "        mall_scaled = self.scaler.fit_transform(self.mall)\n",
    "        self.mall_df1 = pd.DataFrame(mall_scaled, columns = ['Age', 'Annual Income (k$)', 'Spending Score (1-100)'])\n",
    "    def predict(self):\n",
    "        self.cluster = KMeans(n_clusters=4, max_iter=150, random_state= 0)\n",
    "        self.cluster.fit(self.mall_df1)\n",
    "        self.mall_d['Cluster_Id'] = self.cluster.labels_\n",
    "    def createNewCustomer(self):\n",
    "        st.sidebar.title('Wähle die Eigenschaften des neuen Kunden aus:')\n",
    "        age = st.sidebar.slider('Alter', 18, 100, 30)\n",
    "        annualIncome = st.sidebar.slider('Jährliches Einkommen (in T€)', 20, 150, 30)\n",
    "        annualSpending = st.sidebar.slider('Ausgaben Score', 0,100, 50)\n",
    "\n",
    "\n",
    "        self.newCustomer = {'Age':[age], 'Annual Income (k$)':[annualIncome], 'Spending Score (1-100)':[annualSpending]}\n",
    "        self.newCustomer = pd.DataFrame(self.newCustomer)\n",
    "        summary = self.mall.append(self.newCustomer,ignore_index=True)\n",
    "        newCustomerScaled = self.scaler.fit_transform(summary)[-1].reshape(1, -1)\n",
    "        prediction = self.cluster.predict(newCustomerScaled)\n",
    "        self.newCustomer['Cluster_Id'] = prediction\n",
    "        \n",
    "    def createScatterPlot(self,newCustomer):\n",
    "        plt.figure(figsize = (20,8))\n",
    "        plt.subplot(1,3,1)\n",
    "        sns.scatterplot(x = 'Age', y = 'Annual Income (k$)',hue='Cluster_Id',data = self.mall_d,legend='full',s = 120,palette=\"Set1\")\n",
    "        sns.scatterplot(x='Age', y='Annual Income (k$)', data = self.newCustomer,s = 200,color='orange')\n",
    "        plt.subplot(1,3,2)\n",
    "        sns.scatterplot(x = 'Annual Income (k$)', y = 'Spending Score (1-100)',hue='Cluster_Id', data = self.mall_d,legend='full',s=120,palette=\"Set1\")\n",
    "        sns.scatterplot(x='Age', y='Annual Income (k$)', data = self.newCustomer,s = 200,color='orange')\n",
    "        plt.subplot(1,3,3)\n",
    "        sns.scatterplot(x = 'Spending Score (1-100)', y = 'Age',hue='Cluster_Id',data= self.mall_d,legend='full',s=120,palette=\"Set1\")\n",
    "        sns.scatterplot(x='Age', y='Annual Income (k$)', data = self.newCustomer,s = 200,color='orange')\n",
    "        st.pyplot(plt)\n",
    "    def createViolinPlot(self, newCustomer):\n",
    "        st.table(newCustomer)\n",
    "        fig, axes = plt.subplots(1,3, figsize=(20,5))\n",
    "\n",
    "\n",
    "        sns.violinplot(x = 'Cluster_Id', y = 'Age', data = self.mall_d,ax=axes[0])\n",
    "        sns.scatterplot(x='Cluster_Id', y='Age', data = self.newCustomer,ax=axes[0], s= 100,color='red')\n",
    "        sns.violinplot(x = 'Cluster_Id', y = 'Annual Income (k$)', data = self.mall_d,ax=axes[1])\n",
    "        sns.scatterplot(x='Cluster_Id', y='Annual Income (k$)', data = self.newCustomer,ax=axes[1], s= 100,color='red')\n",
    "        sns.violinplot(x = 'Cluster_Id', y = 'Spending Score (1-100)', data=self.mall_d,ax=axes[2])\n",
    "        sns.scatterplot(x='Cluster_Id', y='Spending Score (1-100)', data = self.newCustomer,ax=axes[2], s= 100,color='red')\n",
    "\n",
    "        st.pyplot(fig)\n",
    "    def run(self):\n",
    "        i = 0\n",
    "        if i <1:\n",
    "            self.prepareData()\n",
    "            self.predict()\n",
    "            i +=1    \n",
    "        self.createNewCustomer()\n",
    "        st.title('3. Fallstudie Kunden Klassifikation')\n",
    "        st.header('Am Beispiel von Besuchern einer Einkaufsstraße')\n",
    "        textIntro = \"\"\"\n",
    "        Stellen Sie sich vor Sie sind Besitzer einer gut besuchten Einkaufsstraße. Über Kundenkarten können Sie die Umsätze\n",
    "        der Kunden zuordnen, zusätzlich erhalten Sie von den Kreditkartenunternehmen weitere Informationen. Wie können Sie\n",
    "        Ihre Kunden nun untergliedern? Welche Angebote passen zu welcher Gruppe?\n",
    "        Alogirithmen helfen uns dabei die Daten besser zu verstehen. Die Basis von diesem Beispiel stellt ein echter \n",
    "        Open Source Datensatz von der Data Science Platform Kaggle dar. Das zugrundeliegende Model wurde auf die Kundenbesuche trainiert.\n",
    "        Sie können nun über die Auswahlmöglichkeiten links einen neuen Kunden simulieren und gucken wie dieser in bestehende\n",
    "        Kluster eingeordnet würde.\n",
    "        \"\"\"\n",
    "        st.write(textIntro)\n",
    "        newCustomer = self.newCustomer.rename(columns={'Age':'Alter', 'Annual Income':'Jährliches Einkommen',\n",
    "                                                      'Spending Score (1-100)': 'Ausgabenscore'})\n",
    "        st.subheader('Ihr Kunde hat folgende Eigenschaften:')\n",
    "        st.write(newCustomer)\n",
    "        st.subheader('Der Kunde wird folgendem Cluster zugeordnet:')\n",
    "        st.write(self.newCustomer['Cluster_Id'])\n",
    "        st.subheader('Beschreibung des Cluster:')\n",
    "        st.write('Hier den Text noch kopieren')\n",
    "        st.subheader('Clustering der Daten am Beispiel der Einflussfaktoren')\n",
    "        self.createScatterPlot(self.newCustomer)\n",
    "        st.subheader('Verteilung der Einflussfaktoren pro Cluster')\n",
    "        self.createViolinPlot(self.newCustomer)\n",
    "\n",
    "        \n",
    "    "
   ]
  },
  {
   "cell_type": "code",
   "execution_count": null,
   "metadata": {},
   "outputs": [],
   "source": []
  }
 ],
 "metadata": {
  "kernelspec": {
   "display_name": "Python 3",
   "language": "python",
   "name": "python3"
  },
  "language_info": {
   "codemirror_mode": {
    "name": "ipython",
    "version": 3
   },
   "file_extension": ".py",
   "mimetype": "text/x-python",
   "name": "python",
   "nbconvert_exporter": "python",
   "pygments_lexer": "ipython3",
   "version": "3.8.3"
  }
 },
 "nbformat": 4,
 "nbformat_minor": 4
}
