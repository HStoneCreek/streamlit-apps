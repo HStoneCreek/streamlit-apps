{
 "cells": [
  {
   "cell_type": "markdown",
   "metadata": {
    "_uuid": "eca0fc691a7fa4f011b666ededfaebdf4c14844f"
   },
   "source": [
    "[LendingClub](https://www.lendingclub.com/) is a US peer-to-peer lending company and the world's largest peer-to-peer lending platform. As explained by [Wikipedia](https://en.wikipedia.org/wiki/Lending_Club),\n",
    "\n",
    "> Lending Club enables borrowers to create unsecured personal loans between \\$1,000 and \\$40,000. The standard loan period is three years. Investors can search and browse the loan listings on Lending Club website and select loans that they want to invest in based on the information supplied about the borrower, amount of loan, loan grade, and loan purpose. Investors make money from interest. Lending Club makes money by charging borrowers an origination fee and investors a service fee.\n",
    "\n",
    "The goal of this project is to build a machine learning model to predict the probability that a loan will charge off. We will attempt to only use data available to investors via the LendingClub loan listing, including information about the borrower (income, employment length, FICO score, debt-to-income ratio, etc.) and the loan listing (the loan amount, loan purpose, loan grade, interest rate, installment, etc.). Such a predictive model could help LendingClub investors make better-informed investment decisions. We will only consider loans that LendingClub accepted under its credit underwriting policy."
   ]
  },
  {
   "cell_type": "markdown",
   "metadata": {
    "_uuid": "a4296e616977f6b02010a0984e83667f3d76c3c2"
   },
   "source": [
    "## 1.1 References\n",
    "<a id=\"1.1\"></a>"
   ]
  },
  {
   "cell_type": "markdown",
   "metadata": {
    "_uuid": "aeae213fd6615256f05839a61479c60319051c24"
   },
   "source": [
    "* LendingClub information\n",
    " * [LendingClub website](https://www.lendingclub.com/)\n",
    " * [LendingClub Wikipedia page](https://en.wikipedia.org/wiki/Lending_Club)\n",
    "* Datasets\n",
    " * [LendingClub statistics](https://www.lendingclub.com/info/download-data.action) - Original data source, aggregated on Kaggle\n",
    " * [All Lending Club loan data](https://www.kaggle.com/wordsforthewise/lending-club) - The dataset used in this project, hosted on Kaggle\n",
    " * [Lending Club Loan Data](https://www.kaggle.com/wendykan/lending-club-loan-data) - Another LendingClub dataset on Kaggle, not used in this project\n",
    "* This project\n",
    " * [Kaggle notebook](https://www.kaggle.com/pileatedperch/predicting-charge-off-from-initial-listing-data)\n",
    " * [GitHub repo](https://github.com/jgcorliss/lending-club)"
   ]
  },
  {
   "cell_type": "markdown",
   "metadata": {
    "_cell_guid": "b018242b-b3c5-4245-b5d7-ea6a3f28d4c8",
    "_uuid": "2053f9b0b897cad21155cca0a00c537bfd1bb340"
   },
   "source": [
    "# 2. Import the Data\n",
    "<a id=\"2\"></a>"
   ]
  },
  {
   "cell_type": "code",
   "execution_count": 39,
   "metadata": {
    "_cell_guid": "d237539e-2aa1-438e-a2c6-39a48c47211c",
    "_uuid": "3a39bcc870d823d4923c7ec9d8acb62c733bebaa"
   },
   "outputs": [],
   "source": [
    "import numpy as np\n",
    "import scipy as sp\n",
    "import pandas as pd\n",
    "import matplotlib as mpl\n",
    "import matplotlib.pyplot as plt\n",
    "import seaborn as sns\n",
    "import streamlit as st\n",
    "\n",
    "from sklearn.pipeline import Pipeline\n",
    "from sklearn.preprocessing import StandardScaler\n",
    "from sklearn.impute import SimpleImputer\n",
    "from sklearn.discriminant_analysis import LinearDiscriminantAnalysis\n",
    "from sklearn.model_selection import GridSearchCV\n",
    "from sklearn.linear_model import LogisticRegression\n",
    "from sklearn.linear_model import SGDClassifier\n",
    "import pickle\n",
    "\n",
    "# Pandas options\n",
    "pd.set_option('display.max_colwidth', 1000, 'display.max_rows', None, 'display.max_columns', None)\n",
    "\n",
    "# Plotting options\n",
    "%matplotlib inline\n",
    "mpl.style.use('ggplot')\n",
    "sns.set(style='whitegrid')"
   ]
  },
  {
   "cell_type": "markdown",
   "metadata": {
    "_cell_guid": "4c0f7ef4-37a3-4c71-847f-38f924706540",
    "_uuid": "c4b355a5d50e067d1461d6504cb04d827f65c6cd"
   },
   "source": [
    "Read the data into a pandas dataframe:"
   ]
  },
  {
   "cell_type": "raw",
   "metadata": {},
   "source": [
    "tmpDict = { 'loan_amnt': 1000, # zuleihendeer Betrag\n",
    "          'term': 10, #monate entweder 36, 60\n",
    "          'int_rate': 10, #Zinssatz\n",
    "          'installment': #zu Beginn fällige Rate\n",
    "          'emp_length': 4, #Angestellt in dem Job seit x Jahren\n",
    "          'issu_d':'Mar-2017', #entfällt\n",
    "          'dti': 34,#berechne ich als Verhältnis monatlicher Zahlungen für Konsumkredite #A ratio calculated using the borrower’s total monthly debt payments on the total debt obligations, \n",
    "           #excluding mortgage and the requested LC loan, divided by the borrower’s self-reported monthly income.\n",
    "          'earliest_cr_line':2000, #The year the borrower's earliest reported credit line was opened\n",
    "          'open_acc':ccc,#The number of open credit lines in the borrower's credit file.\"\n",
    "           'revol_util': xxx#Revolving line utilization rate, or the amount of credit the borrower is using relative to all available revolving credit.\n",
    "          'pub_rec': xxx,#Number of derogatory public records.\n",
    "           'application_type_Join_App': #Indicates whether the loan is an individual application or a joint application with two co-borrowers\n",
    "           'mort_acc': #Number of mortgage accounts.,\n",
    "           'total_acc': #The total number of credit lines currently in the borrower's credit file.\n",
    "          'pub_rec_bankruptcies': ,#Number of public record bankruptcies\n",
    "          'initial_list_status_w': }#The initial listing status of the loan. Possible values are – W, F.\" I'm not sure what this means.\n",
    "            "
   ]
  },
  {
   "cell_type": "code",
   "execution_count": 36,
   "metadata": {},
   "outputs": [],
   "source": [
    "columns = ['loan_amnt',\n",
    " 'term',\n",
    " 'int_rate',\n",
    " 'installment',\n",
    " 'emp_length',\n",
    " 'dti',\n",
    " 'earliest_cr_line',\n",
    " 'open_acc',\n",
    " 'pub_rec',\n",
    " 'revol_util',\n",
    " 'total_acc',\n",
    " 'mort_acc',\n",
    " 'pub_rec_bankruptcies',\n",
    " 'log_annual_inc',\n",
    " 'fico_score',\n",
    " 'log_revol_bal',\n",
    " 'sub_grade_A2',\n",
    " 'sub_grade_A3',\n",
    " 'sub_grade_A4',\n",
    " 'sub_grade_A5',\n",
    " 'sub_grade_B1',\n",
    " 'sub_grade_B2',\n",
    " 'sub_grade_B3',\n",
    " 'sub_grade_B4',\n",
    " 'sub_grade_B5',\n",
    " 'sub_grade_C1',\n",
    " 'sub_grade_C2',\n",
    " 'sub_grade_C3',\n",
    " 'sub_grade_C4',\n",
    " 'sub_grade_C5',\n",
    " 'sub_grade_D1',\n",
    " 'sub_grade_D2',\n",
    " 'sub_grade_D3',\n",
    " 'sub_grade_D4',\n",
    " 'sub_grade_D5',\n",
    " 'sub_grade_E1',\n",
    " 'sub_grade_E2',\n",
    " 'sub_grade_E3',\n",
    " 'sub_grade_E4',\n",
    " 'sub_grade_E5',\n",
    " 'sub_grade_F1',\n",
    " 'sub_grade_F2',\n",
    " 'sub_grade_F3',\n",
    " 'sub_grade_F4',\n",
    " 'sub_grade_F5',\n",
    " 'sub_grade_G1',\n",
    " 'sub_grade_G2',\n",
    " 'sub_grade_G3',\n",
    " 'sub_grade_G4',\n",
    " 'sub_grade_G5',\n",
    " 'home_ownership_OTHER',\n",
    " 'home_ownership_OWN',\n",
    " 'home_ownership_RENT',\n",
    " 'verification_status_Source Verified',\n",
    " 'verification_status_Verified',\n",
    " 'purpose_credit_card',\n",
    " 'purpose_debt_consolidation',\n",
    " 'purpose_educational',\n",
    " 'purpose_home_improvement',\n",
    " 'purpose_house',\n",
    " 'purpose_major_purchase',\n",
    " 'purpose_medical',\n",
    " 'purpose_moving',\n",
    " 'purpose_other',\n",
    " 'purpose_renewable_energy',\n",
    " 'purpose_small_business',\n",
    " 'purpose_vacation',\n",
    " 'purpose_wedding',\n",
    " 'addr_state_AL',\n",
    " 'addr_state_AR',\n",
    " 'addr_state_AZ',\n",
    " 'addr_state_CA',\n",
    " 'addr_state_CO',\n",
    " 'addr_state_CT',\n",
    " 'addr_state_DC',\n",
    " 'addr_state_DE',\n",
    " 'addr_state_FL',\n",
    " 'addr_state_GA',\n",
    " 'addr_state_HI',\n",
    " 'addr_state_IA',\n",
    " 'addr_state_ID',\n",
    " 'addr_state_IL',\n",
    " 'addr_state_IN',\n",
    " 'addr_state_KS',\n",
    " 'addr_state_KY',\n",
    " 'addr_state_LA',\n",
    " 'addr_state_MA',\n",
    " 'addr_state_MD',\n",
    " 'addr_state_ME',\n",
    " 'addr_state_MI',\n",
    " 'addr_state_MN',\n",
    " 'addr_state_MO',\n",
    " 'addr_state_MS',\n",
    " 'addr_state_MT',\n",
    " 'addr_state_NC',\n",
    " 'addr_state_ND',\n",
    " 'addr_state_NE',\n",
    " 'addr_state_NH',\n",
    " 'addr_state_NJ',\n",
    " 'addr_state_NM',\n",
    " 'addr_state_NV',\n",
    " 'addr_state_NY',\n",
    " 'addr_state_OH',\n",
    " 'addr_state_OK',\n",
    " 'addr_state_OR',\n",
    " 'addr_state_PA',\n",
    " 'addr_state_RI',\n",
    " 'addr_state_SC',\n",
    " 'addr_state_SD',\n",
    " 'addr_state_TN',\n",
    " 'addr_state_TX',\n",
    " 'addr_state_UT',\n",
    " 'addr_state_VA',\n",
    " 'addr_state_VT',\n",
    " 'addr_state_WA',\n",
    " 'addr_state_WI',\n",
    " 'addr_state_WV',\n",
    " 'addr_state_WY',\n",
    " 'initial_list_status_w',\n",
    " 'application_type_Joint App']\n",
    "newBorrower = pd.DataFrame(columns = columns)"
   ]
  },
  {
   "cell_type": "code",
   "execution_count": null,
   "metadata": {},
   "outputs": [],
   "source": [
    "liste = []\n",
    "for i in 'ABCDEFG':\n",
    "    for x in range(1,6):\n",
    "        liste.append(i+str(x))\n",
    "states = ['CA', 'NY', 'TX', 'FL', 'IL', 'NJ','OH']\n",
    "        \n",
    "loan_amnt = st.sidebar.slider('Wie hoch ist der Kreditbetrag?',0,40000,10000)\n",
    "term = st.sidebar.radio('Laufzeit des Kredits?', (36,60))\n",
    "int_rate = st.sidebar.slider('Wie hoch ist der Zinssatz?', 0, 15,5,0.25)\n",
    "installment = (loan_amt*(1+(int_rate/100))^(term/12))/term\n",
    "emp_length = st.sidebar.slider('Wie lange besteht das Beschäftigungsverhältnis?', 0, 15,5)\n",
    "earliest_cr_line = st.sidebar.slider('Wann wurde die erste Kreditlinie beantragt?', 1995,2015,2010)\n",
    "open_acc = st.sidebar.slider('Wie viele Kredite werden aktuell beansprucht?', 0, 30, 5)\n",
    "revol_util = st.sidebar.slider('Wie viel Prozent der zur Verfügung stehenden Kreditlinie nutzt der Kunde aktuell?', 0, 1,0.1)\n",
    "\n",
    "pub_rec = st.sidebar.slider('Wie viele negative Eintragungen bestehen?', 0,15,0)\n",
    "application_type_Join_App = st.sidebar.radio('Wird der Antrag alleine gestellt?', ('Ja', 'Nein'))\n",
    "if application_type_Join_App == 'Ja':\n",
    "    application_type_Join_App = 0\n",
    "else:\n",
    "    application_type_Join_App = 1\n",
    "annualIncome = st.sidebar.slider('Wie viel verdient der Kreditnehmer pro Jahr?', 0,200000, 50000) \n",
    "mort_acc = st.sidebar.slider('Wie viele Hauskredite bestehen?', 0, 10, 2)\n",
    "total_acc = st.sidebar.slider('Wie viele Kredite befinden sich in der Kredithistorie?', 0,30,5)\n",
    "pub_rec_bankruptcies = st.sidebar.slider('Wie viele Privatinsolvenzen sind veröffentlicht?',0,5,0)\n",
    "initial_list_status_w = 1\n",
    "grade = st.sidebar.select_slider('Welches Rating bekommt der Kunde?', options=liste)\n",
    "home_ownership = st.sidebar.radio('Wie steht es um die Wohnverhältnisse?', ('OWN', 'RENT', 'OTHER'))\n",
    "state = st.sidebar.select_slider('Aus welchem Staat kommt der Kreditnehmer?', options = states)\n",
    "\n",
    "tmpDict = {\n",
    "    'loan_amnt':loan_amt, 'term':term, 'int_rate':int_rate, \n",
    "    'installment':installment, 'emp_length':emp_length, 'dti':25,\n",
    "    'earliest_cr_line':earliest_cr_line, 'open_acc':open_acc, 'pub_rec':pub_rec, \n",
    "    'revol_util':revol_util, 'total_acc':total_acc, 'mort_acc':mort_acc, \n",
    "    'pub_rec_bankruptcies':pub_rec_bankruptcies, 'log_annual_inc': np.log10(annualIncome+1),'fico_score':680, \n",
    "    'log_revol_bal','home_ownership_'+str(home_ownership):1, \n",
    "    'verification_status_Source Verified':0, 'verification_status_Verified':0,\n",
    "    'initial_list_status_w':1, 'application_type_Joint App':application_type_Join_App, 'addr_state_'+str(state):1\n",
    "}"
   ]
  },
  {
   "cell_type": "code",
   "execution_count": 37,
   "metadata": {},
   "outputs": [
    {
     "ename": "NameError",
     "evalue": "name 'tmpDict' is not defined",
     "output_type": "error",
     "traceback": [
      "\u001b[0;31m---------------------------------------------------------------------------\u001b[0m",
      "\u001b[0;31mNameError\u001b[0m                                 Traceback (most recent call last)",
      "\u001b[0;32m<ipython-input-37-9ae68fe0134f>\u001b[0m in \u001b[0;36m<module>\u001b[0;34m\u001b[0m\n\u001b[0;32m----> 1\u001b[0;31m \u001b[0mnewBorrower\u001b[0m\u001b[0;34m.\u001b[0m\u001b[0mappend\u001b[0m\u001b[0;34m(\u001b[0m\u001b[0mtmpDict\u001b[0m\u001b[0;34m,\u001b[0m \u001b[0mignore_index\u001b[0m\u001b[0;34m=\u001b[0m\u001b[0;32mTrue\u001b[0m\u001b[0;34m)\u001b[0m\u001b[0;34m\u001b[0m\u001b[0;34m\u001b[0m\u001b[0m\n\u001b[0m",
      "\u001b[0;31mNameError\u001b[0m: name 'tmpDict' is not defined"
     ]
    }
   ],
   "source": [
    "newBorrower.append(tmpDict, ignore_index=True)\n",
    "newBorrower = newBorrower.fillna(0)"
   ]
  },
  {
   "cell_type": "raw",
   "metadata": {},
   "source": [
    "y_train = pd.read_pickle('y_train.p')\n",
    "y_test = pd.read_pickle('y_test.p')\n",
    "X_train = pd.read_pickle('X_train.p')\n",
    "X_test = pd.read_pickle('X_test.p')"
   ]
  },
  {
   "cell_type": "markdown",
   "metadata": {
    "_uuid": "3bda07c1025d052dc57e47e3b8c60c2bfa1d9e83"
   },
   "source": [
    "The machine learning pipeline:"
   ]
  },
  {
   "cell_type": "code",
   "execution_count": 5,
   "metadata": {},
   "outputs": [],
   "source": [
    "with open(\"modelCreditDefault.p\", 'rb') as input_file:\n",
    "    modelTest = pickle.load(input_file)"
   ]
  },
  {
   "cell_type": "code",
   "execution_count": null,
   "metadata": {},
   "outputs": [],
   "source": [
    "prediction = modelTest.predict(newBorrower)"
   ]
  },
  {
   "cell_type": "code",
   "execution_count": null,
   "metadata": {},
   "outputs": [],
   "source": [
    "st.write(prediction)"
   ]
  },
  {
   "cell_type": "code",
   "execution_count": 260,
   "metadata": {},
   "outputs": [],
   "source": [
    "y_score = modelTest.predict_proba(X_test)[:,1]"
   ]
  },
  {
   "cell_type": "code",
   "execution_count": 261,
   "metadata": {},
   "outputs": [
    {
     "data": {
      "text/plain": [
       "array([0.04051422, 0.14538723, 0.17537702, ..., 0.50926394, 0.34397791,\n",
       "       0.31084028])"
      ]
     },
     "execution_count": 261,
     "metadata": {},
     "output_type": "execute_result"
    }
   ],
   "source": [
    "y_score"
   ]
  }
 ],
 "metadata": {
  "kernelspec": {
   "display_name": "Python 3",
   "language": "python",
   "name": "python3"
  },
  "language_info": {
   "codemirror_mode": {
    "name": "ipython",
    "version": 3
   },
   "file_extension": ".py",
   "mimetype": "text/x-python",
   "name": "python",
   "nbconvert_exporter": "python",
   "pygments_lexer": "ipython3",
   "version": "3.8.3"
  }
 },
 "nbformat": 4,
 "nbformat_minor": 1
}
