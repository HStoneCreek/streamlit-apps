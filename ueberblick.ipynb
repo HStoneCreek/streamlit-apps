{
 "cells": [
  {
   "cell_type": "code",
   "execution_count": 1,
   "metadata": {},
   "outputs": [],
   "source": [
    "import pandas as pd\n",
    "import streamlit as st\n",
    "\n",
    "import textSentiment\n",
    "\n",
    "from textSentiment import *\n",
    "from customerClustering import *\n",
    "#import creditDefault"
   ]
  },
  {
   "cell_type": "code",
   "execution_count": null,
   "metadata": {},
   "outputs": [],
   "source": [
    "def main():\n",
    "    \n",
    "    \n",
    "    case = st.sidebar.selectbox(label = 'Wählen Sie bitte die Fallstudie?', options = ['Überblick', 'Textanalyse', 'Kunden Klassifikation',\n",
    "                                                                                       'Kreditausfall'])\n",
    "    if case == 'Überblick':\n",
    "        st.title('KI Erleben - Interaktive Fallstudien')\n",
    "        st.header('3 Szenarien für den Bankalltag')\n",
    "\n",
    "        st.subheader('1. Textsentiment Analyse ')\n",
    "        textSentiment = '''\n",
    "        Jede Sekunde werden Millionen Zeilen von Informationen veröffentlicht, die unterschiedliche Relevanz für den Bankalltag haben.\n",
    "        Nachrichten, Gesetze und Veröffentlichungen, ob auf Twitter oder wissenschaftlicher Natur, stellen nur einen Teil der\n",
    "        Informationsflut dar. Im Bereich der künstlichen Intelligenz haben sich zwei Teilbereiche herausgebildet, die den Menschen\n",
    "        bei der Verarbeitung der Informationen unterstützen sollen. Entity Recognition identifiziert Personen, Orte, Daten und viele\n",
    "        weitere Objekte in Texten und stellt diese heraus. Dadurch können Text direkt gefiltert und auch relevante Informationen hin untersucht werden.\n",
    "        Sentiment Analyse versucht hingegen die \"Stimmung\" der Informationen zu identifizieren. In dem verwendeten Beispiel wird\n",
    "        auf ein \"vortrainiertes\" Modell zurückgegriffen.\n",
    "        '''\n",
    "        st.write(textSentiment)\n",
    "\n",
    "        st.subheader('2. Kunden Klassifikation')\n",
    "        textKundenKlassifikation = '''\n",
    "        Dem Kunden bedarfsgerechte Lösungen anzubieten, ist das Ziel von Vertriebs- und Marketingabteilungen. Doch wie sind die Kunden einzuordnen?\n",
    "        Hier kann die Kunden Klassifikation unterstützen. Die Modelle erarbeiten \"Cluster\" von Kundengrruppen auf Basis von verschiedenen\n",
    "        Merkmalen des einzelnen Kunden. Anschließend können die Kundengruppen gezielt angesprochen werden.\n",
    "        '''\n",
    "        st.write(textKundenKlassifikation)\n",
    "\n",
    "        st.subheader('3. Kreditausfall Prognose')\n",
    "        textCreditDefault = '''\n",
    "        Im Rahmen der zunehmenden Regulierung ist eine Risikomessung- und reduzierung notwendig, um Risikovorsorgen zu minimieren und \n",
    "        gleichzeitig den Gewinn zu stabilisieren. Vor diesem Hintergrund ist eine Prognose des Kreditausfalls bei Vergabe interessant.\n",
    "        Die 3. Fallstudie beschäftigt sich mit eben diesem Problem.\n",
    "        '''\n",
    "        st.write(textCreditDefault)\n",
    "    if case == 'Textanalyse':\n",
    "        TextSentiment.run()\n",
    "    \n",
    "    if case == 'Kunden Klassifikation':\n",
    "        customerClass = CustomerClassification()\n",
    "        customerClass.run()\n",
    "    \n",
    "    \n",
    "if __name__ == '__main__':\n",
    "    main()"
   ]
  }
 ],
 "metadata": {
  "kernelspec": {
   "display_name": "Python 3",
   "language": "python",
   "name": "python3"
  },
  "language_info": {
   "codemirror_mode": {
    "name": "ipython",
    "version": 3
   },
   "file_extension": ".py",
   "mimetype": "text/x-python",
   "name": "python",
   "nbconvert_exporter": "python",
   "pygments_lexer": "ipython3",
   "version": "3.8.3"
  }
 },
 "nbformat": 4,
 "nbformat_minor": 4
}
